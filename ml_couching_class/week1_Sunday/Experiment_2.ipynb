{
 "cells": [
  {
   "cell_type": "markdown",
   "metadata": {},
   "source": [
    "# Foundations of Artificial Intelligence and Machine Learning\n",
    "## A Program by IIIT-H and TalentSprint"
   ]
  },
  {
   "cell_type": "markdown",
   "metadata": {},
   "source": [
    "### To be done in Lab"
   ]
  },
  {
   "cell_type": "markdown",
   "metadata": {},
   "source": [
    "The objective of this experiment is to use the kNN classifier for multi-class classification."
   ]
  },
  {
   "cell_type": "markdown",
   "metadata": {},
   "source": [
    "In this experiment we will use famous Iris data set.This is perhaps the best known database to be found in the pattern recognition literature. Fisher's paper is a classic in the field and is referenced frequently to this day. \n",
    "\n",
    "The data set contains 3 classes of 50 instances each, where each class refers to a type of iris plant. One class is linearly separable from the other 2; the latter are NOT linearly separable from each other. \n"
   ]
  },
  {
   "cell_type": "markdown",
   "metadata": {},
   "source": [
    "#### Data Attributes\n",
    "\n",
    "  1. sepal length in cm \n",
    "  2. sepal width in cm \n",
    "  3. petal length in cm \n",
    "  4. petal width in cm \n",
    "  5. class: \n",
    "     -- Iris Setosa  \n",
    "     -- Iris Versicolour \n",
    "     -- Iris Virginica"
   ]
  },
  {
   "cell_type": "markdown",
   "metadata": {},
   "source": [
    "#### Data Source\n",
    "\n",
    "https://archive.ics.uci.edu/ml/datasets/iris"
   ]
  },
  {
   "cell_type": "code",
   "execution_count": null,
   "metadata": {
    "ExecuteTime": {
     "end_time": "2018-06-15T11:17:42.491498Z",
     "start_time": "2018-06-15T11:17:42.244437Z"
    }
   },
   "outputs": [],
   "source": [
    "# Importing required packages\n",
    "import pandas as pd\n",
    "import math\n",
    "import collections"
   ]
  },
  {
   "cell_type": "code",
   "execution_count": null,
   "metadata": {
    "ExecuteTime": {
     "end_time": "2018-06-15T11:17:42.609748Z",
     "start_time": "2018-06-15T11:17:42.605316Z"
    }
   },
   "outputs": [],
   "source": [
    "## Setting up the file\n",
    "\n",
    "IRISDATA = \"../Datasets/AIML_DS_BEZDEKIRIS_STD.data\""
   ]
  },
  {
   "cell_type": "code",
   "execution_count": null,
   "metadata": {
    "ExecuteTime": {
     "end_time": "2018-06-15T11:17:42.994675Z",
     "start_time": "2018-06-15T11:17:42.986986Z"
    }
   },
   "outputs": [],
   "source": [
    "\n",
    "data = pd.read_csv(IRISDATA, header=None)"
   ]
  },
  {
   "cell_type": "markdown",
   "metadata": {},
   "source": [
    "While we cannot do much plotting in three dimensions, it may be worth plotting two attributes at a time and exploring this dataset. "
   ]
  },
  {
   "cell_type": "code",
   "execution_count": null,
   "metadata": {
    "ExecuteTime": {
     "end_time": "2018-05-31T13:00:59.344028Z",
     "start_time": "2018-05-31T13:00:59.337235Z"
    }
   },
   "outputs": [],
   "source": [
    "\n",
    "def dist(a, b):\n",
    "    sqSum = 0\n",
    "    for i in range(len(a)):\n",
    "        sqSum += (a[i] - b[i]) ** 2\n",
    "    return math.sqrt(sqSum)\n",
    "# ------------------------------------------------ #\n",
    "# We are assuming that the label is the last field #\n",
    "# If not, munge the data to make it so!            #\n",
    "# ------------------------------------------------ #\n",
    "def kNN(k, train, given):\n",
    "    distances = []\n",
    "    for t in train:\n",
    "        distances.append((dist(t[:-1], given), t[-1]))\n",
    "    distances.sort()\n",
    "    return distances[:k]\n",
    "\n",
    "def kNN_classify(k, train, given):\n",
    "    tally = collections.Counter()\n",
    "    for nn in kNN(k, train, given):\n",
    "        tally.update(nn[-1])\n",
    "    return tally.most_common(1)[0]"
   ]
  },
  {
   "cell_type": "markdown",
   "metadata": {},
   "source": [
    "**Exercise 1** :: Split the dataset into 120 + 30, for training and testing. Use K = 5 and Euclidean distance. Find the accuracy (as percentage) on the test data."
   ]
  },
  {
   "cell_type": "code",
   "execution_count": null,
   "metadata": {
    "ExecuteTime": {
     "end_time": "2018-05-24T09:16:13.304469Z",
     "start_time": "2018-05-24T09:16:13.254221Z"
    }
   },
   "outputs": [],
   "source": []
  },
  {
   "cell_type": "code",
   "execution_count": null,
   "metadata": {
    "ExecuteTime": {
     "end_time": "2018-05-31T13:01:00.295935Z",
     "start_time": "2018-05-31T13:01:00.293367Z"
    }
   },
   "outputs": [],
   "source": [
    "## Your code here"
   ]
  },
  {
   "cell_type": "markdown",
   "metadata": {},
   "source": [
    "**Exercise 2** :: Repeat the above (creating random partitions and evaluating the performance) 5 times. "
   ]
  },
  {
   "cell_type": "code",
   "execution_count": null,
   "metadata": {
    "ExecuteTime": {
     "end_time": "2018-05-31T13:01:00.886434Z",
     "start_time": "2018-05-31T13:01:00.883357Z"
    }
   },
   "outputs": [],
   "source": [
    "## Your code here"
   ]
  },
  {
   "cell_type": "markdown",
   "metadata": {},
   "source": [
    "**Exercise 3** :: Vary K from 3 to 11 and find the best K."
   ]
  },
  {
   "cell_type": "code",
   "execution_count": null,
   "metadata": {
    "ExecuteTime": {
     "end_time": "2018-05-31T13:01:01.465871Z",
     "start_time": "2018-05-31T13:01:01.462600Z"
    }
   },
   "outputs": [],
   "source": [
    "## Your code here"
   ]
  },
  {
   "cell_type": "code",
   "execution_count": null,
   "metadata": {},
   "outputs": [],
   "source": []
  },
  {
   "cell_type": "code",
   "execution_count": null,
   "metadata": {},
   "outputs": [],
   "source": []
  },
  {
   "cell_type": "code",
   "execution_count": null,
   "metadata": {},
   "outputs": [],
   "source": []
  }
 ],
 "metadata": {
  "kernelspec": {
   "display_name": "Python 3",
   "language": "python",
   "name": "python3"
  },
  "language_info": {
   "codemirror_mode": {
    "name": "ipython",
    "version": 3
   },
   "file_extension": ".py",
   "mimetype": "text/x-python",
   "name": "python",
   "nbconvert_exporter": "python",
   "pygments_lexer": "ipython3",
   "version": "3.6.5"
  }
 },
 "nbformat": 4,
 "nbformat_minor": 2
}
