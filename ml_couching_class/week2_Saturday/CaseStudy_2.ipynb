{
 "cells": [
  {
   "cell_type": "markdown",
   "metadata": {},
   "source": [
    "# Foundations of Artificial Intelligence and Machine Learning\n",
    "## A Program by IIIT-H and TalentSprint"
   ]
  },
  {
   "cell_type": "markdown",
   "metadata": {},
   "source": [
    "### To be done in Lab"
   ]
  },
  {
   "cell_type": "markdown",
   "metadata": {},
   "source": [
    "The objective of this experiment is to use kNN as a kind of a recommendation/prediction for movies."
   ]
  },
  {
   "cell_type": "markdown",
   "metadata": {
    "ExecuteTime": {
     "end_time": "2018-05-24T09:49:05.942475Z",
     "start_time": "2018-05-24T09:49:05.935288Z"
    }
   },
   "source": [
    "In this experiment we will use a subset of the original movielens dataset."
   ]
  },
  {
   "cell_type": "markdown",
   "metadata": {},
   "source": [
    "Consider the problem of recommending movies to users. We have M Users and N Movies. \n",
    "Now, we want to predict whether a given test user $x$ will watch movie $y$.\n",
    "\n",
    "User $x$ has seen and not seen few movies in the past. We will use $x$'s movie watching history as a feature for our recommendation system.\n",
    "\n",
    "We will use KNN to find the K nearest neighbour users (users with similar taste) to $x$, and make predictions based on their entries for movie $y$.\n",
    "\n",
    "A user either had seen the movie (1) or not seen the movie (0). We can represent this as a matrix of size M×N. (M rows and N columns). We have actually used a dictionary with the keys userId and movieId to represent this matrix.\n",
    "\n",
    "Each element of the matrix is either zero or one. If (u, m) entry in this matrix is 1, then the $u^{th}$ user has seen the movie $m$."
   ]
  },
  {
   "cell_type": "markdown",
   "metadata": {},
   "source": [
    "#### Training set\n",
    "M×N binary matrix indicating seen/not-seen.\n",
    "#### Test set: \n",
    "L test cases with $(x, y)$ pairs. $x$ is N-dimensional binary vector with missing $y^{th}$ entry - which we want to predict.\n"
   ]
  },
  {
   "cell_type": "markdown",
   "metadata": {},
   "source": [
    "### Data Source\n",
    "\n",
    "* AIML_DS_MOVIE-TRAIN_SMALLSUBSETOFMOVIELENSDATASET.csv\n",
    "\n",
    "* AIML_DS_MOVIE-TEST_SMALLSUBSETOFMOVIELENSDATASET.csv\n",
    "\n",
    "These have been taken (and modified) from:\n",
    "http://kevinmolloy.info/teaching/cs504_2017Fall/\n",
    "\n",
    "This is a small subset of the original movielens dataset.\n",
    "https://grouplens.org/datasets/movielens/\n"
   ]
  },
  {
   "cell_type": "markdown",
   "metadata": {},
   "source": [
    "\n",
    "We will use KNN to find the K nearest neighbour users (users with similar taste) to $x$, and make predictions based on their entries for the movie $y$.\n",
    "\n",
    "We have given the code for Cosine distance, when computing nearest neighbours."
   ]
  },
  {
   "cell_type": "code",
   "execution_count": null,
   "metadata": {
    "ExecuteTime": {
     "end_time": "2018-06-20T08:24:13.467265Z",
     "start_time": "2018-06-20T08:24:13.171105Z"
    }
   },
   "outputs": [],
   "source": [
    "# Importing required packages\n",
    "import pandas as pd"
   ]
  },
  {
   "cell_type": "code",
   "execution_count": null,
   "metadata": {
    "ExecuteTime": {
     "end_time": "2018-06-20T08:24:13.475389Z",
     "start_time": "2018-06-20T08:24:13.469317Z"
    }
   },
   "outputs": [],
   "source": [
    "## Setting up the files\n",
    "\n",
    "Train_set = \"../DS/AIML_DS_MOVIE-TRAIN_SMALLSUBSETOFMOVIELENSDATASET.csv\"\n",
    "Test_set = \"../DS/AIML_DS_MOVIE-TEST_SMALLSUBSETOFMOVIELENSDATASET.csv\""
   ]
  },
  {
   "cell_type": "code",
   "execution_count": null,
   "metadata": {
    "ExecuteTime": {
     "end_time": "2018-06-20T08:24:13.814315Z",
     "start_time": "2018-06-20T08:24:13.477384Z"
    }
   },
   "outputs": [],
   "source": [
    "## Loading the data from set up files\n",
    "rated = pd.read_csv(Train_set, converters={\"userId\":int, \"movieId\":int})\n",
    "rated.describe()"
   ]
  },
  {
   "cell_type": "code",
   "execution_count": null,
   "metadata": {
    "ExecuteTime": {
     "end_time": "2018-06-20T08:24:13.830349Z",
     "start_time": "2018-06-20T08:24:13.816822Z"
    }
   },
   "outputs": [],
   "source": [
    "userCount = max(rated.userId)\n",
    "movieCount = max(rated.movieId)"
   ]
  },
  {
   "cell_type": "code",
   "execution_count": null,
   "metadata": {
    "ExecuteTime": {
     "end_time": "2018-06-20T08:24:13.981095Z",
     "start_time": "2018-06-20T08:24:13.832952Z"
    }
   },
   "outputs": [],
   "source": [
    "seen = {}\n",
    "for x in rated.values:\n",
    "    seen[(int(x[0]), int(x[1]))] = 1"
   ]
  },
  {
   "cell_type": "code",
   "execution_count": null,
   "metadata": {
    "ExecuteTime": {
     "end_time": "2018-06-20T08:24:14.538941Z",
     "start_time": "2018-06-20T08:24:13.982844Z"
    }
   },
   "outputs": [],
   "source": [
    "allUsersMovies = [(u,m) for u in range(userCount) for m in range(movieCount)]"
   ]
  },
  {
   "cell_type": "code",
   "execution_count": null,
   "metadata": {
    "ExecuteTime": {
     "end_time": "2018-06-20T08:24:16.955215Z",
     "start_time": "2018-06-20T08:24:14.540778Z"
    }
   },
   "outputs": [],
   "source": [
    "for x in allUsersMovies:\n",
    "    if x not in seen:\n",
    "        seen[x] = 0"
   ]
  },
  {
   "cell_type": "markdown",
   "metadata": {},
   "source": [
    "Now we have the data loaded into a dictionary, let us recast the distance function to use it. Given two users, $u_1$ and $u_2$, for a movie $mx$, we must ignore the entries for $mx$ while computing the distance"
   ]
  },
  {
   "cell_type": "code",
   "execution_count": null,
   "metadata": {
    "ExecuteTime": {
     "end_time": "2018-06-20T08:24:16.968025Z",
     "start_time": "2018-06-20T08:24:16.958563Z"
    }
   },
   "outputs": [],
   "source": [
    "# This is actually the cosine distance\n",
    "def distance(u1, u2, mx):\n",
    "    d = 0 - seen[(u1, mx)] * seen[(u2, mx)]\n",
    "    for m in range(movieCount):\n",
    "        d += seen[(u1, m)] * seen[(u2, m)]\n",
    "    return d\n",
    "\n",
    "def kNN(k, givenUser, givenMovie):\n",
    "    distances = []\n",
    "    for u in range(userCount):\n",
    "        if u != givenUser:\n",
    "            distances.append([distance(u, givenUser, givenMovie), u])\n",
    "    distances.sort()\n",
    "    distances.reverse() ## Because cosine distances mean higher = closer\n",
    "    return distances[:k] \n",
    "\n",
    "def prediction(k, givenUser, givenMovie):\n",
    "    neighbours = kNN(k, givenUser, givenMovie)\n",
    "    howmanySaw = sum([seen[(u, givenMovie)] for d, u in neighbours])\n",
    "    return 2 * howmanySaw > k      ### predict 1 if more than half of the similar users have seen this movie, otherwise 0.\n",
    "        "
   ]
  },
  {
   "cell_type": "markdown",
   "metadata": {},
   "source": [
    "### Exercise 1\n",
    "\n",
    "Verify the above code and check if it works"
   ]
  },
  {
   "cell_type": "code",
   "execution_count": null,
   "metadata": {
    "ExecuteTime": {
     "end_time": "2018-06-20T08:24:17.164102Z",
     "start_time": "2018-06-20T08:24:16.970370Z"
    }
   },
   "outputs": [],
   "source": [
    "# Your Answer Here"
   ]
  },
  {
   "cell_type": "markdown",
   "metadata": {},
   "source": [
    "### Exercise 2 \n",
    "\n",
    "Change the distance function to compute Euclidean, and see if the prediction changes. Remember to modify the kNN function to pick the smallest distances: do not reverse()!"
   ]
  },
  {
   "cell_type": "code",
   "execution_count": null,
   "metadata": {
    "ExecuteTime": {
     "end_time": "2018-06-20T08:24:17.246307Z",
     "start_time": "2018-06-20T08:24:17.165647Z"
    }
   },
   "outputs": [],
   "source": [
    "## Your Code Here"
   ]
  },
  {
   "cell_type": "markdown",
   "metadata": {},
   "source": [
    "### Exercise 3\n",
    "\n",
    "Change the distance function to compute Manhattan, and see if the prediction changes. Remember to modify the kNN function to pick the smallest distances: do not reverse()!"
   ]
  },
  {
   "cell_type": "code",
   "execution_count": null,
   "metadata": {
    "ExecuteTime": {
     "end_time": "2018-06-20T08:24:17.327718Z",
     "start_time": "2018-06-20T08:24:17.251434Z"
    }
   },
   "outputs": [],
   "source": [
    "## Your Code Here"
   ]
  },
  {
   "cell_type": "markdown",
   "metadata": {},
   "source": [
    "### Summary"
   ]
  },
  {
   "cell_type": "markdown",
   "metadata": {},
   "source": [
    "In above experiment we have learnt how to build recommendation systems using KNN classifier."
   ]
  },
  {
   "cell_type": "code",
   "execution_count": null,
   "metadata": {},
   "outputs": [],
   "source": []
  }
 ],
 "metadata": {
  "kernelspec": {
   "display_name": "Python 3",
   "language": "python",
   "name": "python3"
  },
  "language_info": {
   "codemirror_mode": {
    "name": "ipython",
    "version": 3
   },
   "file_extension": ".py",
   "mimetype": "text/x-python",
   "name": "python",
   "nbconvert_exporter": "python",
   "pygments_lexer": "ipython3",
   "version": "3.6.5"
  }
 },
 "nbformat": 4,
 "nbformat_minor": 2
}
